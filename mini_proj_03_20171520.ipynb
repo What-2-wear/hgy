{
 "cells": [
  {
   "cell_type": "markdown",
   "id": "557a4aa9",
   "metadata": {},
   "source": [
    "# Mini Project 3\n",
    "\n",
    "**워싱턴 킹 카운티의 주택 거래 가격 예측**"
   ]
  },
  {
   "cell_type": "code",
   "execution_count": 1,
   "id": "b55b46c7",
   "metadata": {},
   "outputs": [],
   "source": [
    "import numpy as np\n",
    "import pandas as pd\n",
    "\n",
    "input_file = \"kc_house_data.csv\"\n",
    "df = pd.read_csv(input_file)"
   ]
  },
  {
   "cell_type": "code",
   "execution_count": 2,
   "id": "ae91313b",
   "metadata": {},
   "outputs": [],
   "source": [
    "def display_scores(scores):\n",
    "    print(\"Scores:\", scores)\n",
    "    print(\"Mean:\", scores.mean())\n",
    "    print(\"Standard deviation:\", scores.std())\n",
    "    \n",
    "def display_scores_mean(scores):\n",
    "    print(\"Mean:\", scores.mean())"
   ]
  },
  {
   "cell_type": "code",
   "execution_count": 3,
   "id": "e869f85f",
   "metadata": {
    "scrolled": true
   },
   "outputs": [
    {
     "name": "stdout",
     "output_type": "stream",
     "text": [
      "<class 'pandas.core.frame.DataFrame'>\n",
      "RangeIndex: 21613 entries, 0 to 21612\n",
      "Data columns (total 21 columns):\n",
      " #   Column         Non-Null Count  Dtype  \n",
      "---  ------         --------------  -----  \n",
      " 0   id             21613 non-null  int64  \n",
      " 1   date           21613 non-null  object \n",
      " 2   price          21613 non-null  float64\n",
      " 3   bedrooms       21613 non-null  int64  \n",
      " 4   bathrooms      21613 non-null  float64\n",
      " 5   sqft_living    21613 non-null  int64  \n",
      " 6   sqft_lot       21613 non-null  int64  \n",
      " 7   floors         21613 non-null  float64\n",
      " 8   waterfront     21613 non-null  int64  \n",
      " 9   view           21613 non-null  int64  \n",
      " 10  condition      21613 non-null  int64  \n",
      " 11  grade          21613 non-null  int64  \n",
      " 12  sqft_above     21613 non-null  int64  \n",
      " 13  sqft_basement  21613 non-null  int64  \n",
      " 14  yr_built       21613 non-null  int64  \n",
      " 15  yr_renovated   21613 non-null  int64  \n",
      " 16  zipcode        21613 non-null  int64  \n",
      " 17  lat            21613 non-null  float64\n",
      " 18  long           21613 non-null  float64\n",
      " 19  sqft_living15  21613 non-null  int64  \n",
      " 20  sqft_lot15     21613 non-null  int64  \n",
      "dtypes: float64(5), int64(15), object(1)\n",
      "memory usage: 3.5+ MB\n"
     ]
    }
   ],
   "source": [
    "df.info()"
   ]
  },
  {
   "cell_type": "markdown",
   "id": "364f8a24",
   "metadata": {},
   "source": [
    "**특성 목록**\n",
    "\n",
    "0. ID\n",
    "1. 거래 날짜\n",
    "2. 거래 가격 (레이블로 사용될 예정)\n",
    "3. 침실 수\n",
    "4. 욕실 수\n",
    "5. 내부 면적\n",
    "6. 땅 면적\n",
    "7. 층수\n",
    "8. 해변 조망\n",
    "9. 경관\n",
    "10. 상태\n",
    "11. 구조 설계\n",
    "12. 위층 면적\n",
    "13. 지하 면적\n",
    "14. 건축 연도\n",
    "15. 증축 연도\n",
    "16. 우편 주소\n",
    "17. 위도\n",
    "18. 경도\n",
    "19. 주위 15가구 내부 면적\n",
    "20. 주위 15가구 외부 면적"
   ]
  },
  {
   "cell_type": "markdown",
   "id": "d1611b0b",
   "metadata": {},
   "source": [
    "**날짜를 숫자로 변환**"
   ]
  },
  {
   "cell_type": "code",
   "execution_count": 4,
   "id": "778183a8",
   "metadata": {},
   "outputs": [
    {
     "data": {
      "text/plain": [
       "0        20141013\n",
       "1        20141209\n",
       "2        20150225\n",
       "3        20141209\n",
       "4        20150218\n",
       "           ...   \n",
       "21608    20140521\n",
       "21609    20150223\n",
       "21610    20140623\n",
       "21611    20150116\n",
       "21612    20141015\n",
       "Name: date, Length: 21613, dtype: int64"
      ]
     },
     "execution_count": 4,
     "metadata": {},
     "output_type": "execute_result"
    }
   ],
   "source": [
    "df['date']=  pd.to_datetime(df['date'])\n",
    "df['date'] = df['date'].apply(lambda x: x.strftime('%Y%m%d'))\n",
    "df[\"date\"] = df[\"date\"].astype('int64')\n",
    "\n",
    "df[\"date\"]"
   ]
  },
  {
   "cell_type": "markdown",
   "id": "5f790b41",
   "metadata": {},
   "source": [
    "# 특성 조합 및 추가 (위도 및 경도)"
   ]
  },
  {
   "cell_type": "code",
   "execution_count": 5,
   "id": "3426c886",
   "metadata": {
    "scrolled": true
   },
   "outputs": [],
   "source": [
    "#lat과 log 조합\n",
    "\n",
    "# df[\"lat_long_add\"] = df[\"lat\"] + df[\"long\"]\n",
    "# df[\"lat_long_sub\"] = df[\"lat\"] - df[\"long\"]\n",
    "# df[\"long_lat_sub\"] = df[\"long\"] - df[\"lat\"]\n",
    "# df[\"lat_long_mul\"] = df[\"lat\"] * df[\"long\"]\n",
    "\n",
    "df[\"lat_long\"] = df[\"lat\"] / df[\"long\"] #mean값이 가장 낮게 나오는 특성 조합\n",
    "\n",
    "# df[\"long_lat_div\"] = df[\"long\"] / df[\"lat\"]"
   ]
  },
  {
   "cell_type": "code",
   "execution_count": 6,
   "id": "25dbe465",
   "metadata": {},
   "outputs": [],
   "source": [
    "# df[\"sqft_living_grade_mult\"] = df[\"sqft_living\"] * df[\"grade\"] # 1265\n",
    "\n",
    "# df[\"sqft_living_grade_div\"] = df[\"sqft_living\"] / df[\"grade\"] # 1275\n",
    "\n",
    "# df[\"sqft_living_grade_test\"] = df[\"sqft_living\"] / (df[\"grade\"]**2) #1271\n",
    "\n",
    "# df[\"sqft_living_grade\"] = df[\"sqft_living\"] / (df[\"grade\"]**3) #1271\n",
    "\n",
    "df[\"sqft_living_grade\"] = df[\"sqft_living\"] * (df[\"grade\"]**3) #1263\n",
    "\n",
    "# 4제곱이랑 별로 차이 없어서 그냥 이거 씀\n"
   ]
  },
  {
   "cell_type": "code",
   "execution_count": 7,
   "id": "2875072c",
   "metadata": {},
   "outputs": [],
   "source": [
    "# df[\"condition_grade\"] = df[\"condition\"] * df[\"grade\"] #1261\n",
    "\n",
    "# df[\"condition_grade\"] = df[\"grade\"] / df[\"condition\"] #1260 얘 쓸거임\n",
    "\n",
    "# df[\"condition_grade\"] = (df[\"condition\"]**2) * (df[\"grade\"]**2) #1261\n",
    "\n",
    "# df[\"condition_grade\"] = (df[\"grade\"]**2) / (df[\"condition\"]**2) #1260\n",
    "\n",
    "# df[\"condition_grade\"] = (df[\"grade\"]**2) + (df[\"condition\"]**2) #1261\n",
    "\n",
    "# df[\"condition_grade\"] = (df[\"grade\"]**3) * (df[\"condition\"]**3) #1261\n",
    "\n",
    "# df[\"condition_grade\"] = (df[\"grade\"]**3) / (df[\"condition\"]**3) #1260\n",
    "\n",
    "# df[\"condition_grade\"] = df[\"condition\"] ** df[\"grade\"] #1261\n",
    "\n",
    "\n",
    "# 위 아래는 분리해서 따로따로 하나씩 넣어서 시행해봤음. 나누기를 넣으면 오류남\n",
    "\n",
    "# df[\"waterfront_view\"] = df[\"waterfront\"] * df[\"view\"] # 1258\n",
    "\n",
    "df[\"waterfront_view\"] = df[\"waterfront\"] + df[\"view\"] # 1252 얘만 넣는게 더 잘 나오는데??\n",
    "\n",
    "# df[\"waterfront_view\"] = df[\"waterfront\"] - df[\"view\"] # 1261"
   ]
  },
  {
   "cell_type": "markdown",
   "id": "1b60896b",
   "metadata": {},
   "source": [
    "**특성 중요도 확인을 위한 상관계수 확인**"
   ]
  },
  {
   "cell_type": "code",
   "execution_count": 8,
   "id": "f877baec",
   "metadata": {
    "scrolled": true
   },
   "outputs": [
    {
     "data": {
      "text/plain": [
       "price                1.000000\n",
       "sqft_living_grade    0.769716\n",
       "sqft_living          0.702035\n",
       "grade                0.667434\n",
       "sqft_above           0.605567\n",
       "sqft_living15        0.585379\n",
       "bathrooms            0.525138\n",
       "waterfront_view      0.406834\n",
       "view                 0.397293\n",
       "sqft_basement        0.323816\n",
       "bedrooms             0.308350\n",
       "lat                  0.307003\n",
       "waterfront           0.266369\n",
       "floors               0.256794\n",
       "yr_renovated         0.126434\n",
       "sqft_lot             0.089661\n",
       "sqft_lot15           0.082447\n",
       "yr_built             0.054012\n",
       "condition            0.036362\n",
       "long                 0.021626\n",
       "date                 0.003033\n",
       "id                  -0.016762\n",
       "zipcode             -0.053203\n",
       "lat_long            -0.308000\n",
       "Name: price, dtype: float64"
      ]
     },
     "execution_count": 8,
     "metadata": {},
     "output_type": "execute_result"
    }
   ],
   "source": [
    "corr_matrix = df.corr()\n",
    "corr_matrix[\"price\"].sort_values(ascending=False)"
   ]
  },
  {
   "cell_type": "markdown",
   "id": "e0efae5e",
   "metadata": {},
   "source": [
    "# 레이블 설정 / 특성 제거"
   ]
  },
  {
   "cell_type": "code",
   "execution_count": 9,
   "id": "32290432",
   "metadata": {},
   "outputs": [],
   "source": [
    "housing_prepared = df.drop([\"price\"], axis=1)\n",
    "# housing_prepared = df.drop([\"price\", \"lat_long_add\", \"lat_long_sub\", \"long_lat_sub\", \"lat_long_mul\", \"lat_long_div\", \"long_lat_div\"], axis=1)\n",
    "housing_labels = df[\"price\"].copy()"
   ]
  },
  {
   "cell_type": "code",
   "execution_count": 10,
   "id": "7225b7e8",
   "metadata": {
    "scrolled": true
   },
   "outputs": [
    {
     "name": "stdout",
     "output_type": "stream",
     "text": [
      "<class 'pandas.core.frame.DataFrame'>\n",
      "RangeIndex: 21613 entries, 0 to 21612\n",
      "Data columns (total 23 columns):\n",
      " #   Column             Non-Null Count  Dtype  \n",
      "---  ------             --------------  -----  \n",
      " 0   id                 21613 non-null  int64  \n",
      " 1   date               21613 non-null  int64  \n",
      " 2   bedrooms           21613 non-null  int64  \n",
      " 3   bathrooms          21613 non-null  float64\n",
      " 4   sqft_living        21613 non-null  int64  \n",
      " 5   sqft_lot           21613 non-null  int64  \n",
      " 6   floors             21613 non-null  float64\n",
      " 7   waterfront         21613 non-null  int64  \n",
      " 8   view               21613 non-null  int64  \n",
      " 9   condition          21613 non-null  int64  \n",
      " 10  grade              21613 non-null  int64  \n",
      " 11  sqft_above         21613 non-null  int64  \n",
      " 12  sqft_basement      21613 non-null  int64  \n",
      " 13  yr_built           21613 non-null  int64  \n",
      " 14  yr_renovated       21613 non-null  int64  \n",
      " 15  zipcode            21613 non-null  int64  \n",
      " 16  lat                21613 non-null  float64\n",
      " 17  long               21613 non-null  float64\n",
      " 18  sqft_living15      21613 non-null  int64  \n",
      " 19  sqft_lot15         21613 non-null  int64  \n",
      " 20  lat_long           21613 non-null  float64\n",
      " 21  sqft_living_grade  21613 non-null  int64  \n",
      " 22  waterfront_view    21613 non-null  int64  \n",
      "dtypes: float64(5), int64(18)\n",
      "memory usage: 3.8 MB\n"
     ]
    }
   ],
   "source": [
    "housing_prepared.info()"
   ]
  },
  {
   "cell_type": "markdown",
   "id": "c82fff42",
   "metadata": {},
   "source": [
    "**특성에 따른 변화를 보기 위해 특성 하나씩 제거해서 넣어보기**"
   ]
  },
  {
   "cell_type": "code",
   "execution_count": 11,
   "id": "97585340",
   "metadata": {},
   "outputs": [],
   "source": [
    "housing_prepared_id = df.drop([\"price\", \"id\"], axis=1)\n",
    "housing_prepared_date = df.drop([\"price\", \"date\"], axis=1)\n",
    "housing_prepared_bedrooms = df.drop([\"price\", \"bedrooms\"], axis=1)\n",
    "housing_prepared_bathrooms = df.drop([\"price\", \"bathrooms\"], axis=1)\n",
    "housing_prepared_sqft_living = df.drop([\"price\", \"sqft_living\"], axis=1)\n",
    "housing_prepared_sqft_lot = df.drop([\"price\", \"sqft_lot\"], axis=1)\n",
    "housing_prepared_floors = df.drop([\"price\", \"floors\"], axis=1)\n",
    "housing_prepared_waterfront = df.drop([\"price\", \"waterfront\"], axis=1)\n",
    "housing_prepared_view = df.drop([\"price\", \"view\"], axis=1)\n",
    "housing_prepared_condition = df.drop([\"price\", \"condition\"], axis=1)\n",
    "housing_prepared_grade = df.drop([\"price\", \"grade\"], axis=1)\n",
    "housing_prepared_sqft_above = df.drop([\"price\", \"sqft_above\"], axis=1)\n",
    "housing_prepared_sqft_basement = df.drop([\"price\", \"sqft_basement\"], axis=1)\n",
    "housing_prepared_yr_built = df.drop([\"price\", \"yr_built\"], axis=1)\n",
    "housing_prepared_yr_renovated = df.drop([\"price\", \"yr_renovated\"], axis=1)\n",
    "housing_prepared_zipcode = df.drop([\"price\", \"zipcode\"], axis=1)\n",
    "housing_prepared_lat = df.drop([\"price\", \"lat\"], axis=1)\n",
    "housing_prepared_long = df.drop([\"price\", \"long\"], axis=1)\n",
    "housing_prepared_sqft_living15 = df.drop([\"price\", \"sqft_living15\"], axis=1)\n",
    "housing_prepared_sqft_lot15 = df.drop([\"price\", \"sqft_lot15\"], axis=1)"
   ]
  },
  {
   "cell_type": "markdown",
   "id": "0e199e5c",
   "metadata": {},
   "source": [
    "# 각각의 속성을 제거하고 훈련\n",
    "\n",
    "\n",
    "**기존 평균값(date가 삭제됨, house_prepare)**\n",
    "\n",
    "Mean: 129152.92649612627\n",
    "\n",
    "Standard deviation: 9297.502130668623\n",
    "\n",
    "이전에 기본적인 상태에서 그리드 서치를 통해 얻은 최적 파라미터 값을 넣고 계산함\n",
    "\n",
    "### (11.26)\n",
    "max_depth = 20, min_samples_leaf = 3, min_samples_split = 2, n_estimators = 500 기준\n",
    "\n",
    "Mean = 127338.18569768597"
   ]
  },
  {
   "cell_type": "code",
   "execution_count": 12,
   "id": "c8d9a3fe",
   "metadata": {
    "scrolled": true
   },
   "outputs": [],
   "source": [
    "from sklearn.model_selection import cross_val_score\n",
    "from sklearn.ensemble import RandomForestRegressor\n",
    "\n",
    "# rf_reg = RandomForestRegressor(random_state = 42, n_jobs = -1)\n",
    "rf_reg = RandomForestRegressor(random_state = 42, n_jobs = -1, max_depth = 20,\n",
    "                               min_samples_leaf = 3, min_samples_split = 2,\n",
    "                               n_estimators = 500)"
   ]
  },
  {
   "cell_type": "markdown",
   "id": "46159951",
   "metadata": {},
   "source": [
    "# 특성 중요도 시각화"
   ]
  },
  {
   "cell_type": "code",
   "execution_count": 13,
   "id": "73644212",
   "metadata": {
    "scrolled": true
   },
   "outputs": [
    {
     "data": {
      "text/plain": [
       "RandomForestRegressor(max_depth=20, min_samples_leaf=3, n_estimators=500,\n",
       "                      n_jobs=-1, random_state=42)"
      ]
     },
     "execution_count": 13,
     "metadata": {},
     "output_type": "execute_result"
    }
   ],
   "source": [
    "from sklearn.model_selection import train_test_split\n",
    "import matplotlib.pyplot as plt\n",
    "\n",
    "rf_reg.fit(housing_prepared, housing_labels)"
   ]
  },
  {
   "cell_type": "code",
   "execution_count": 14,
   "id": "4cb2e69f",
   "metadata": {
    "scrolled": false
   },
   "outputs": [
    {
     "data": {
      "text/plain": [
       "<BarContainer object of 23 artists>"
      ]
     },
     "execution_count": 14,
     "metadata": {},
     "output_type": "execute_result"
    },
    {
     "data": {
      "image/png": "[encoded data removed]",
      "text/plain": [
       "<Figure size 432x288 with 1 Axes>"
      ]
     },
     "metadata": {
      "needs_background": "light"
     },
     "output_type": "display_data"
    }
   ],
   "source": [
    "sorted_idx = rf_reg.feature_importances_.argsort()\n",
    "\n",
    "plt.barh(housing_prepared.columns[sorted_idx], rf_reg.feature_importances_[sorted_idx])"
   ]
  },
  {
   "cell_type": "markdown",
   "id": "e3ae954a",
   "metadata": {},
   "source": [
    "# 특성별 평균값\n",
    "\n",
    "단위를 알고 싶어서 평균을 취했음"
   ]
  },
  {
   "cell_type": "code",
   "execution_count": 15,
   "id": "63313d8c",
   "metadata": {},
   "outputs": [
    {
     "name": "stdout",
     "output_type": "stream",
     "text": [
      "mean date            : 20143902.668255217\n",
      "mean bedrooms        : 3.37084162309721\n",
      "mean bathrooms       : 2.1147573219821405\n",
      "mean sqft_living     : 2079.8997362698374\n",
      "mean floors          : 1.4943089807060566\n",
      "mean waterfront      : 0.007541757275713691\n",
      "mean view            : 0.23430342849211122\n",
      "mean condition       : 3.4094295100171195\n",
      "mean grade           : 7.656873178179799\n",
      "mean sqft_above      : 1788.3906907879516\n",
      "mean sqft_basement   : 291.5090454818859\n",
      "mean yr_renovated    : 84.40225790033776\n",
      "mean zipcode         : 98077.93980474715\n",
      "mean lat             : 47.56005251931708\n",
      "mean long            : -122.21389640494147\n",
      "mean sqft_living15   : 1986.552491556008\n",
      "mean sqft_lot15      : 12768.455651691113\n",
      "mean lat_long        : -0.3891545518605847\n"
     ]
    }
   ],
   "source": [
    "print(f\"mean date            : {np.mean([housing_prepared.date])}\")\n",
    "print(f\"mean bedrooms        : {np.mean([housing_prepared.bedrooms])}\")\n",
    "print(f\"mean bathrooms       : {np.mean([housing_prepared.bathrooms])}\")\n",
    "print(f\"mean sqft_living     : {np.mean([housing_prepared.sqft_living])}\")\n",
    "print(f\"mean floors          : {np.mean([housing_prepared.floors])}\")\n",
    "print(f\"mean waterfront      : {np.mean([housing_prepared.waterfront])}\")\n",
    "print(f\"mean view            : {np.mean([housing_prepared.view])}\")\n",
    "print(f\"mean condition       : {np.mean([housing_prepared.condition])}\")\n",
    "print(f\"mean grade           : {np.mean([housing_prepared.grade])}\")\n",
    "print(f\"mean sqft_above      : {np.mean([housing_prepared.sqft_above])}\")\n",
    "print(f\"mean sqft_basement   : {np.mean([housing_prepared.sqft_basement])}\")\n",
    "print(f\"mean yr_renovated    : {np.mean([housing_prepared.yr_renovated])}\")\n",
    "print(f\"mean zipcode         : {np.mean([housing_prepared.zipcode])}\")\n",
    "print(f\"mean lat             : {np.mean([housing_prepared.lat])}\")\n",
    "print(f\"mean long            : {np.mean([housing_prepared.long])}\")\n",
    "print(f\"mean sqft_living15   : {np.mean([housing_prepared.sqft_living15])}\")\n",
    "print(f\"mean sqft_lot15      : {np.mean([housing_prepared.sqft_lot15])}\")\n",
    "print(f\"mean lat_long        : {np.mean([housing_prepared.lat_long])}\")"
   ]
  },
  {
   "cell_type": "markdown",
   "id": "eb0e556c",
   "metadata": {},
   "source": [
    "# 특성 중요도 순위\n",
    "\n",
    "특성 중요도 순위 (조합으로 생성된 특성 제외)\n",
    "\n",
    "1. grade  @\n",
    "2. sqft_living  @\n",
    "3. lat  !\n",
    "4. long  !\n",
    "5. waterfront\n",
    "6. sqft_living15\n",
    "7. yr_built\n",
    "8. sqft_above\n",
    "9. sqft_lot\n",
    "10. view"
   ]
  },
  {
   "cell_type": "markdown",
   "id": "c4e4307b",
   "metadata": {},
   "source": [
    "# 각 특성 제거 후 Mean값 변화가 큰 순서\n",
    "\n",
    "바로 아래쪽부터 한동안 있는 코드들임.\n",
    "\n",
    "특성 공학 적용 이전을 기준으로 함.\n",
    "\n",
    "1. lat  !\n",
    "2. long  !\n",
    "3. waterfront  \n",
    "4. grade  @\n",
    "5. sqft_living  @\n",
    "6. view #\n",
    "7. zipcode\n",
    "8. date\n",
    "9. condition #\n",
    "10. sqft_living15"
   ]
  },
  {
   "cell_type": "markdown",
   "id": "04b308d0",
   "metadata": {},
   "source": [
    "공통으로 들어가있는 항목 (5개)\n",
    "\n",
    "lat이랑 long은 너무 독립적이라 서로 묶고 뺴는게 나을거 같음 <br>\n",
    "이래도 조합으로는 20개 정도 나옴\n",
    "\n",
    "grade <br>\n",
    "sqft_living <br>\n",
    "waterfront <br>\n",
    "view <br>\n",
    "sqft_living15 <br>"
   ]
  },
  {
   "cell_type": "markdown",
   "id": "8ce74b0c",
   "metadata": {},
   "source": [
    "## 가장 기본 기준이 되는 모델\n",
    "\n",
    "\n",
    "특성 조합 전 : 128191\n",
    "\n",
    "1. lat_long 추가 후 : 127019\n",
    "2. sqft_living_grade 추가 후 :126341\n",
    "\n",
    "세팅 편의성을 위해 일부러 오류 넣음"
   ]
  },
  {
   "cell_type": "code",
   "execution_count": 16,
   "id": "ede9d12b",
   "metadata": {},
   "outputs": [
    {
     "ename": "NameError",
     "evalue": "name 'ᄆᄂᄋᆱᄂᄋᄅ' is not defined",
     "output_type": "error",
     "traceback": [
      "\u001b[1;31m---------------------------------------------------------------------------\u001b[0m",
      "\u001b[1;31mNameError\u001b[0m                                 Traceback (most recent call last)",
      "\u001b[1;32m<ipython-input-16-7a2ebd5a7313>\u001b[0m in \u001b[0;36m<module>\u001b[1;34m\u001b[0m\n\u001b[1;32m----> 1\u001b[1;33m \u001b[0mㅁㄴㅇㄻㄴㅇㄹ\u001b[0m\u001b[1;33m\u001b[0m\u001b[1;33m\u001b[0m\u001b[0m\n\u001b[0m",
      "\u001b[1;31mNameError\u001b[0m: name 'ᄆᄂᄋᆱᄂᄋᄅ' is not defined"
     ]
    }
   ],
   "source": [
    "ㅁㄴㅇㄻㄴㅇㄹ"
   ]
  },
  {
   "cell_type": "code",
   "execution_count": null,
   "id": "d1baa4c4",
   "metadata": {
    "scrolled": false
   },
   "outputs": [],
   "source": [
    "rf_scores = cross_val_score(rf_reg, housing_prepared, housing_labels, scoring = \"neg_mean_squared_error\", cv=10)\n",
    "rf_rmse_scores = np.sqrt(-rf_scores)\n",
    "display_scores(rf_rmse_scores)"
   ]
  },
  {
   "cell_type": "markdown",
   "id": "b7c81fd1",
   "metadata": {},
   "source": [
    "## 이 아래는 특성 제거하면서 측청한거라 무시하면 됨"
   ]
  },
  {
   "cell_type": "markdown",
   "id": "f759a063",
   "metadata": {
    "scrolled": true
   },
   "source": [
    "rf_scores_id = cross_val_score(rf_reg, housing_prepared_id, housing_labels, scoring = \"neg_mean_squared_error\", cv=10)\n",
    "rf_rmse_scores_id = np.sqrt(-rf_scores_id)\n",
    "display_scores(rf_rmse_scores_id)"
   ]
  },
  {
   "cell_type": "markdown",
   "id": "53530ab3",
   "metadata": {
    "scrolled": false
   },
   "source": [
    "rf_scores_date = cross_val_score(rf_reg, housing_prepared_date, housing_labels, scoring = \"neg_mean_squared_error\", cv=10)\n",
    "rf_rmse_scores_date = np.sqrt(-rf_scores_date)\n",
    "display_scores(rf_rmse_scores_date)"
   ]
  },
  {
   "cell_type": "markdown",
   "id": "6add057c",
   "metadata": {
    "scrolled": false
   },
   "source": [
    "rf_scores_bedrooms = cross_val_score(rf_reg, housing_prepared_bedrooms, housing_labels, scoring = \"neg_mean_squared_error\", cv=10)\n",
    "rf_rmse_scores_bedrooms = np.sqrt(-rf_scores_bedrooms)\n",
    "display_scores(rf_rmse_scores_bedrooms)"
   ]
  },
  {
   "cell_type": "markdown",
   "id": "8ab899ba",
   "metadata": {
    "scrolled": false
   },
   "source": [
    "rf_scores_bathrooms = cross_val_score(rf_reg, housing_prepared_bathrooms, housing_labels, scoring = \"neg_mean_squared_error\", cv=10)\n",
    "rf_rmse_scores_bathrooms = np.sqrt(-rf_scores_bathrooms)\n",
    "display_scores(rf_rmse_scores_bathrooms)"
   ]
  },
  {
   "cell_type": "markdown",
   "id": "2e92a2ef",
   "metadata": {
    "scrolled": false
   },
   "source": [
    "rf_scores_sqft_living = cross_val_score(rf_reg, housing_prepared_sqft_living, housing_labels, scoring = \"neg_mean_squared_error\", cv=10)\n",
    "rf_rmse_scores_sqft_living = np.sqrt(-rf_scores_sqft_living)\n",
    "display_scores(rf_rmse_scores_sqft_living)"
   ]
  },
  {
   "cell_type": "markdown",
   "id": "ac451213",
   "metadata": {
    "scrolled": false
   },
   "source": [
    "rf_scores_sqft_lot = cross_val_score(rf_reg, housing_prepared_sqft_lot, housing_labels, scoring = \"neg_mean_squared_error\", cv=10)\n",
    "rf_rmse_scores_sqft_lot = np.sqrt(-rf_scores_sqft_lot)\n",
    "display_scores(rf_rmse_scores_sqft_lot)"
   ]
  },
  {
   "cell_type": "markdown",
   "id": "af401b25",
   "metadata": {
    "scrolled": false
   },
   "source": [
    "rf_scores_floors = cross_val_score(rf_reg, housing_prepared_floors, housing_labels, scoring = \"neg_mean_squared_error\", cv=10)\n",
    "rf_rmse_scores_floors = np.sqrt(-rf_scores_floors)\n",
    "display_scores(rf_rmse_scores_floors)"
   ]
  },
  {
   "cell_type": "markdown",
   "id": "a58ab1fe",
   "metadata": {
    "scrolled": false
   },
   "source": [
    "rf_scores_waterfront = cross_val_score(rf_reg, housing_prepared_waterfront, housing_labels, scoring = \"neg_mean_squared_error\", cv=10)\n",
    "rf_rmse_scores_waterfront = np.sqrt(-rf_scores_waterfront)\n",
    "display_scores(rf_rmse_scores_waterfront)"
   ]
  },
  {
   "cell_type": "markdown",
   "id": "b2554a64",
   "metadata": {
    "scrolled": false
   },
   "source": [
    "rf_scores_view = cross_val_score(rf_reg, housing_prepared_view, housing_labels, scoring = \"neg_mean_squared_error\", cv=10)\n",
    "rf_rmse_scores_view = np.sqrt(-rf_scores_view)\n",
    "display_scores(rf_rmse_scores_view)"
   ]
  },
  {
   "cell_type": "markdown",
   "id": "d4fa328a",
   "metadata": {
    "scrolled": false
   },
   "source": [
    "rf_scores_condition = cross_val_score(rf_reg, housing_prepared_condition, housing_labels, scoring = \"neg_mean_squared_error\", cv=10)\n",
    "rf_rmse_scores_condition = np.sqrt(-rf_scores_condition)\n",
    "display_scores(rf_rmse_scores_condition)"
   ]
  },
  {
   "cell_type": "markdown",
   "id": "45576e11",
   "metadata": {
    "scrolled": false
   },
   "source": [
    "rf_scores_grade = cross_val_score(rf_reg, housing_prepared_grade, housing_labels, scoring = \"neg_mean_squared_error\", cv=10)\n",
    "rf_rmse_scores_grade = np.sqrt(-rf_scores_grade)\n",
    "display_scores(rf_rmse_scores_grade)"
   ]
  },
  {
   "cell_type": "markdown",
   "id": "660b94f1",
   "metadata": {
    "scrolled": false
   },
   "source": [
    "rf_scores_sqft_above = cross_val_score(rf_reg, housing_prepared_sqft_above, housing_labels, scoring = \"neg_mean_squared_error\", cv=10)\n",
    "rf_rmse_scores_sqft_above = np.sqrt(-rf_scores_sqft_above)\n",
    "display_scores(rf_rmse_scores_sqft_above)"
   ]
  },
  {
   "cell_type": "markdown",
   "id": "c2a26041",
   "metadata": {
    "scrolled": false
   },
   "source": [
    "rf_scores_sqft_basement = cross_val_score(rf_reg, housing_prepared_sqft_basement, housing_labels, scoring = \"neg_mean_squared_error\", cv=10)\n",
    "rf_rmse_scores_sqft_basement = np.sqrt(-rf_scores_sqft_basement)\n",
    "display_scores(rf_rmse_scores_sqft_basement)"
   ]
  },
  {
   "cell_type": "markdown",
   "id": "63fdab71",
   "metadata": {
    "scrolled": false
   },
   "source": [
    "rf_scores_yr_built = cross_val_score(rf_reg, housing_prepared_yr_built, housing_labels, scoring = \"neg_mean_squared_error\", cv=10)\n",
    "rf_rmse_scores_yr_built = np.sqrt(-rf_scores_yr_built)\n",
    "display_scores(rf_rmse_scores_yr_built)"
   ]
  },
  {
   "cell_type": "markdown",
   "id": "e2827306",
   "metadata": {
    "scrolled": false
   },
   "source": [
    "rf_scores_yr_renovated = cross_val_score(rf_reg, housing_prepared_yr_renovated, housing_labels, scoring = \"neg_mean_squared_error\", cv=10)\n",
    "rf_rmse_scores_yr_renovated = np.sqrt(-rf_scores_yr_renovated)\n",
    "display_scores(rf_rmse_scores_yr_renovated)"
   ]
  },
  {
   "cell_type": "markdown",
   "id": "13675f7f",
   "metadata": {
    "scrolled": true
   },
   "source": [
    "rf_scores_zipcode = cross_val_score(rf_reg, housing_prepared_zipcode, housing_labels, scoring = \"neg_mean_squared_error\", cv=10)\n",
    "rf_rmse_scores_zipcode = np.sqrt(-rf_scores_zipcode)\n",
    "display_scores(rf_rmse_scores_zipcode)"
   ]
  },
  {
   "cell_type": "markdown",
   "id": "0fce3e49",
   "metadata": {
    "scrolled": true
   },
   "source": [
    "rf_scores_lat = cross_val_score(rf_reg, housing_prepared_lat, housing_labels, scoring = \"neg_mean_squared_error\", cv=10)\n",
    "rf_rmse_scores_lat = np.sqrt(-rf_scores_lat)\n",
    "display_scores(rf_rmse_scores_lat)"
   ]
  },
  {
   "cell_type": "markdown",
   "id": "42fc26f0",
   "metadata": {
    "scrolled": true
   },
   "source": [
    "rf_scores_long = cross_val_score(rf_reg, housing_prepared_long, housing_labels, scoring = \"neg_mean_squared_error\", cv=10)\n",
    "rf_rmse_scores_long = np.sqrt(-rf_scores_long)\n",
    "display_scores(rf_rmse_scores_long)"
   ]
  },
  {
   "cell_type": "markdown",
   "id": "0095f388",
   "metadata": {
    "scrolled": true
   },
   "source": [
    "rf_scores_sqft_living15 = cross_val_score(rf_reg, housing_prepared_sqft_living15, housing_labels, scoring = \"neg_mean_squared_error\", cv=10)\n",
    "rf_rmse_scores_sqft_living15 = np.sqrt(-rf_scores_sqft_living15)\n",
    "display_scores(rf_rmse_scores_sqft_living15)"
   ]
  },
  {
   "cell_type": "markdown",
   "id": "fb456c5e",
   "metadata": {
    "scrolled": false
   },
   "source": [
    "rf_scores_sqft_lot15 = cross_val_score(rf_reg, housing_prepared_sqft_lot15, housing_labels, scoring = \"neg_mean_squared_error\", cv=10)\n",
    "rf_rmse_scores_sqft_lot15 = np.sqrt(-rf_scores_sqft_lot15)\n",
    "display_scores(rf_rmse_scores_sqft_lot15)"
   ]
  },
  {
   "cell_type": "markdown",
   "id": "7b03aa87",
   "metadata": {},
   "source": [
    "# 이것저것 실험"
   ]
  },
  {
   "cell_type": "markdown",
   "id": "176f040e",
   "metadata": {},
   "source": [
    "**아래에서는 쓸모없는 값 id랑 yr_built를 제거하고 해봤음**\n",
    "\n",
    "Mean: 126079.28767913536\n",
    "\n",
    "기존의 128000 정도에 비하면 내려간게 보임.\n",
    "그래도 생각보다 값이 내려가지 않았음.\n",
    "\n",
    "(11.26) lat_long_div 추가로 넣어서 126000까지 내렸음"
   ]
  },
  {
   "cell_type": "code",
   "execution_count": null,
   "id": "8900d228",
   "metadata": {
    "scrolled": true
   },
   "outputs": [],
   "source": [
    "housing_prepared_test1 = df.drop([\"id\", \"yr_built\", \"price\", \"bedrooms\", \"bathrooms\", \"floors\", \"sqft_basement\"], axis=1)\n",
    "\n",
    "#이렇게 지우면 124000까지 내려감\n",
    "\n",
    "housing_prepared_test1.info()"
   ]
  },
  {
   "cell_type": "code",
   "execution_count": null,
   "id": "13974c06",
   "metadata": {},
   "outputs": [],
   "source": [
    "rf_reg = RandomForestRegressor(random_state = 42, n_jobs = -1, max_depth = 25,\n",
    "                               min_samples_leaf = 2, min_samples_split = 2,\n",
    "                               n_estimators = 700)\n",
    "\n",
    "rf_scores_grid = cross_val_score(rf_reg, housing_prepared_test1, housing_labels, \n",
    "                                  scoring = \"neg_mean_squared_error\", cv=10) \n",
    "rf_rmse_scores_grid = np.sqrt(-rf_scores_grid)\n",
    "display_scores(rf_rmse_scores_grid)"
   ]
  },
  {
   "cell_type": "markdown",
   "id": "9ea31762",
   "metadata": {},
   "source": [
    "## 어쨌거나 ID랑 yr_built는 빼는 편이 나을듯"
   ]
  },
  {
   "cell_type": "markdown",
   "id": "6cef1b1a",
   "metadata": {},
   "source": [
    "# 최적 파라미터를 찾기 위한 그리드 서치"
   ]
  },
  {
   "cell_type": "code",
   "execution_count": null,
   "id": "fdc50368",
   "metadata": {},
   "outputs": [],
   "source": [
    "from sklearn.model_selection import GridSearchCV\n",
    "\n",
    "rf_param_grid = {\n",
    "    'n_estimators' : [600, 700, 800], #결정트리 개수. 일반적으로 많으면 좋음(무조건은 아님)\n",
    "    'max_depth' : [20, 25, 30], #트리 깊이\n",
    "    'min_samples_leaf' : [2, 3, 4], #리프 노드가 되기 위한 최소한의 샘플 데이터 수\n",
    "    'min_samples_split' : [2, 3, 4] #노드를 분할하기 위한 최소한의 데이터 수\n",
    "}"
   ]
  },
  {
   "cell_type": "code",
   "execution_count": null,
   "id": "2b5380dc",
   "metadata": {},
   "outputs": [],
   "source": [
    "rf_grid = GridSearchCV(rf_reg, param_grid = rf_param_grid, n_jobs = -1, verbose = 1)\n",
    "rf_grid.fit(housing_prepared_test1, housing_labels)"
   ]
  },
  {
   "cell_type": "code",
   "execution_count": null,
   "id": "140f699b",
   "metadata": {},
   "outputs": [],
   "source": [
    "print(\"최고 파라미터 :\", rf_grid.best_params_)"
   ]
  },
  {
   "cell_type": "code",
   "execution_count": null,
   "id": "db0afece",
   "metadata": {},
   "outputs": [],
   "source": [
    "best_min_samples = rf_grid.best_params_[\"min_samples_leaf\"]\n",
    "best_samples_split = rf_grid.best_params_[\"min_samples_split\"]\n",
    "best_max_depth = rf_grid.best_params_[\"max_depth\"]\n",
    "best_n_estimators = rf_grid.best_params_[\"n_estimators\"]\n",
    "\n",
    "rf_reg = RandomForestRegressor(random_state = 42, n_jobs = -1, max_depth = best_max_depth,\n",
    "                               min_samples_leaf = best_samples_split, min_samples_split = best_samples_split,\n",
    "                               n_estimators = best_n_estimators)"
   ]
  },
  {
   "cell_type": "code",
   "execution_count": null,
   "id": "6606211e",
   "metadata": {},
   "outputs": [],
   "source": [
    "rf_param_grid = {\n",
    "    'n_estimators' : [600, 700, 800], #결정트리 개수. 일반적으로 많으면 좋음(무조건은 아님)\n",
    "    'max_depth' : [20, 25, 30], #트리 깊이\n",
    "    'min_samples_leaf' : [2, 3, 4], #리프 노드가 되기 위한 최소한의 샘플 데이터 수\n",
    "    'min_samples_split' : [2, 3, 4] #노드를 분할하기 위한 최소한의 데이터 수\n",
    "}\n",
    "\n",
    "rf_grid_test1 = GridSearchCV(rf_reg, param_grid = rf_param_grid, n_jobs = -1, verbose = 1)\n",
    "rf_grid.fit(housing_prepared_test1, housing_labels)"
   ]
  },
  {
   "cell_type": "code",
   "execution_count": null,
   "id": "95bfc709",
   "metadata": {},
   "outputs": [],
   "source": [
    "rf_scores_grid = cross_val_score(rf_reg, housing_prepared_test1, housing_labels, \n",
    "                                  scoring = \"neg_mean_squared_error\", cv=10) \n",
    "rf_rmse_scores_grid = np.sqrt(-rf_scores_grid)\n",
    "display_scores(rf_rmse_scores_grid)"
   ]
  },
  {
   "cell_type": "markdown",
   "id": "e54d16f2",
   "metadata": {},
   "source": [
    "# 부스팅 실험\n",
    "\n",
    "에이다 부스트 (돌리지 말 것! 뭔가 문제가 있음)"
   ]
  },
  {
   "cell_type": "code",
   "execution_count": null,
   "id": "a972d78d",
   "metadata": {},
   "outputs": [],
   "source": [
    "from sklearn.ensemble import AdaBoostRegressor\n",
    "\n",
    "ada_clf = AdaBoostRegressor(\n",
    "    RandomForestRegressor(max_depth = 25,\n",
    "                               min_samples_leaf = 2, min_samples_split = 2,\n",
    "                               n_estimators = 700), \n",
    "    n_estimators=200,\n",
    "    learning_rate=0.5, random_state=42)\n",
    "\n",
    "ada_clf.fit(housing_prepared_test1, housing_labels)"
   ]
  },
  {
   "cell_type": "code",
   "execution_count": null,
   "id": "2b21e16d",
   "metadata": {},
   "outputs": [],
   "source": [
    "rf_scores_adaboost = cross_val_score(ada_clf, housing_prepared_test1, housing_labels, \n",
    "                                  scoring = \"neg_mean_squared_error\", cv=10) \n",
    "rf_rmse_scores_grid = np.sqrt(-rf_scores_grid)\n",
    "display_scores(rf_rmse_scores_grid)"
   ]
  },
  {
   "cell_type": "markdown",
   "id": "8968d54b",
   "metadata": {},
   "source": [
    "# 그래디언트 부스팅"
   ]
  },
  {
   "cell_type": "markdown",
   "id": "f04ef759",
   "metadata": {},
   "source": [
    "## 최적 값 찾기 위해 그래디언트 부스팅을 그리드 서치함"
   ]
  },
  {
   "cell_type": "code",
   "execution_count": 19,
   "id": "b512b75f",
   "metadata": {},
   "outputs": [],
   "source": [
    "import numpy as np\n",
    "from sklearn.model_selection import train_test_split\n",
    "from sklearn.metrics import mean_squared_error\n",
    "from sklearn.ensemble import GradientBoostingRegressor\n",
    "\n",
    "gbrt = GradientBoostingRegressor(max_depth=2, n_estimators=3, learning_rate=1.0,\n",
    "                                 random_state=42)\n",
    "gbrt.fit(housing_prepared, housing_labels)\n",
    "\n",
    "gbrt_scores = cross_val_score(gbrt, housing_prepared, housing_labels, scoring = \"neg_mean_squared_error\", cv=10)\n",
    "gbrt_rmse_scores = np.sqrt(-gbrt_scores)"
   ]
  },
  {
   "cell_type": "code",
   "execution_count": 20,
   "id": "33db2840",
   "metadata": {},
   "outputs": [],
   "source": [
    "from sklearn.model_selection import GridSearchCV\n",
    "\n",
    "gbrt_param_grid = {\n",
    "    'n_estimators' : [200, 400, 600, 800, 1000], #결정트리 개수. 일반적으로 많으면 좋음(무조건은 아님)\n",
    "    'max_depth' : [20, 25, 30], #트리 깊이\n",
    "    'min_samples_leaf' : [2, 3, 4], #리프 노드가 되기 위한 최소한의 샘플 데이터 수\n",
    "    'min_samples_split' : [2, 3, 4], #노드를 분할하기 위한 최소한의 데이터 수\n",
    "    'learning_rate' : [0.2, 0.4, 0.6, 0.8]\n",
    "}"
   ]
  },
  {
   "cell_type": "code",
   "execution_count": null,
   "id": "75b27c47",
   "metadata": {},
   "outputs": [
    {
     "name": "stdout",
     "output_type": "stream",
     "text": [
      "Fitting 5 folds for each of 540 candidates, totalling 2700 fits\n"
     ]
    }
   ],
   "source": [
    "gbrt_grid = GridSearchCV(gbrt, param_grid = gbrt_param_grid, n_jobs = -1, verbose = 1)\n",
    "gbrt_grid.fit(housing_prepared, housing_labels)\n",
    "# gbrt_grid.fit(housing_prepared_test1, housing_labels)"
   ]
  },
  {
   "cell_type": "code",
   "execution_count": null,
   "id": "28a364e3",
   "metadata": {},
   "outputs": [],
   "source": [
    "bst_min_samples_leaf = gbrt_grid.best_params_[\"min_samples_leaf\"]\n",
    "bst_samples_split = gbrt_grid.best_params_[\"min_samples_split\"]\n",
    "bst_max_depth = gbrt_grid.best_params_[\"max_depth\"]\n",
    "bst_n_estimators = gbrt_grid.best_params_[\"n_estimators\"]\n",
    "bst_learning_rate = gbrt_grid.best_params_[\"learning_rate\"]\n",
    "\n",
    "gbrt.grid.best_params_"
   ]
  },
  {
   "cell_type": "code",
   "execution_count": null,
   "id": "4a3798e9",
   "metadata": {},
   "outputs": [],
   "source": [
    "gbrt = GradientBoostingRegressor(max_depth=bst_max_depth, n_estimators=bst_n_estimators,\n",
    "                                 min_samples_leaf=bst_min_samples_leaf, min_samples_split=bst_samples_split\n",
    "                                 learning_rate=bst_learning_rate\n",
    "                                 random_state=42)\n",
    "gbrt.fit(housing_prepared, housing_labels)\n",
    "\n",
    "gbrt_scores = cross_val_score(gbrt, housing_prepared, housing_labels, scoring = \"neg_mean_squared_error\", cv=10)\n",
    "gbrt_rmse_scores = np.sqrt(-gbrt_scores)"
   ]
  },
  {
   "cell_type": "markdown",
   "id": "2482646e",
   "metadata": {},
   "source": [
    "### 효율을 위해 특성 공학 적용 후의 X_train으로 시험도 해봄"
   ]
  },
  {
   "cell_type": "code",
   "execution_count": null,
   "id": "c7af3f6c",
   "metadata": {},
   "outputs": [],
   "source": [
    "# gbrt_grid = GridSearchCV(gbrt, param_grid = gbrt_param_grid, n_jobs = -1, verbose = 1)\n",
    "# gbrt_grid.fit(housing_prepared, housing_labels)\n",
    "gbrt_grid.fit(housing_prepared_test1, housing_labels)"
   ]
  },
  {
   "cell_type": "code",
   "execution_count": null,
   "id": "7cc91f20",
   "metadata": {},
   "outputs": [],
   "source": [
    "bst_min_samples_leaf = rf_grid.best_params_[\"min_samples_leaf\"]\n",
    "bst_samples_split = rf_grid.best_params_[\"min_samples_split\"]\n",
    "bst_max_depth = rf_grid.best_params_[\"max_depth\"]\n",
    "bst_n_estimators = rf_grid.best_params_[\"n_estimators\"]\n",
    "bst_learning_rate = rf_grid.best_params_[\"learning_rate\"]\n",
    "\n",
    "rf.grid.best_params_"
   ]
  },
  {
   "cell_type": "code",
   "execution_count": null,
   "id": "08d75a16",
   "metadata": {},
   "outputs": [],
   "source": [
    "gbrt = GradientBoostingRegressor(max_depth=bst_max_depth, n_estimators=bst_n_estimators,\n",
    "                                 min_samples_leaf=bst_min_samples_leaf, min_samples_split=bst_samples_split\n",
    "                                 learning_rate=bst_learning_rate\n",
    "                                 random_state=42)\n",
    "gbrt.fit(housing_prepared_test1, housing_labels)\n",
    "\n",
    "gbrt_scores = cross_val_score(gbrt, housing_prepared_test1, housing_labels, scoring = \"neg_mean_squared_error\", cv=10)\n",
    "gbrt_rmse_scores = np.sqrt(-gbrt_scores)"
   ]
  },
  {
   "cell_type": "markdown",
   "id": "dd550f1b",
   "metadata": {},
   "source": [
    "### 아래는 일반적 그래디언트 부스팅"
   ]
  },
  {
   "cell_type": "code",
   "execution_count": null,
   "id": "5b4019ea",
   "metadata": {},
   "outputs": [],
   "source": [
    "from sklearn.ensemble import GradientBoostingRegressor\n",
    "\n",
    "gbrt = GradientBoostingRegressor(max_depth = 25,\n",
    "                               min_samples_leaf = 2, min_samples_split = 2,\n",
    "                               n_estimators = 700,\n",
    "                                learning_rate=0.5)\n",
    "gbrt.fit(housing_prepared_test1, housing_labels)\n",
    "\n",
    "gbrt_best = GradientBoostingRegressor(max_depth=25, n_estimators=bst_n_estimators, random_state=42)\n",
    "gbrt_best.fit(housing_prepared, housing_labels)"
   ]
  },
  {
   "cell_type": "code",
   "execution_count": null,
   "id": "0b31e643",
   "metadata": {},
   "outputs": [],
   "source": [
    "rf_scores_gbrt = cross_val_score(gbrt, housing_prepared, housing_labels, scoring = \"neg_mean_squared_error\", cv=10)\n",
    "rf_rmse_scores_gbrt = np.sqrt(-rf_scores_gbrt)\n",
    "display_scores(rf_rmse_scores_gbrt)"
   ]
  },
  {
   "cell_type": "code",
   "execution_count": null,
   "id": "e8d897e4",
   "metadata": {},
   "outputs": [],
   "source": [
    "rf_scores_gbrt = cross_val_score(gbrt, housing_prepared_test1, housing_labels, scoring = \"neg_mean_squared_error\", cv=10)\n",
    "rf_rmse_scores_gbrt = np.sqrt(-rf_scores_gbrt)\n",
    "display_scores(rf_rmse_scores_gbrt)"
   ]
  },
  {
   "cell_type": "markdown",
   "id": "70fa8180",
   "metadata": {},
   "source": [
    "# 11월 26일 기록\n",
    "\n",
    "\n",
    "그 전에, 특성끼리 조합하는건 기본적으로 사칙연산을 베이스로 진행하였음.\n",
    "\n",
    "대략 세 가지의 결론이 있었는데\n",
    "\n",
    "1. sub나 div는 앞 뒤를 바꾸어도 유의미한 mean값의 변화가 나타나지 않음\n",
    "2. 하나의 조합된 특성만을 사용하는 편이 나음\n",
    "3. 특성간의 단위가 다른 경우도 있으므로 비슷하면 add나 sub, 차이가 많이 나면 mul이나 div가 나음\n",
    "\n",
    "\n",
    "**그래서 다음으로 할 일들은??**\n",
    "\n",
    "1. 갱신된 기존 mean값 정리해서 기록\n",
    "2. 특성별로 평균(혹은 최대치 or 최소치, 최대-최소치 등...)을 시각화해서 단위 확인\n",
    "3. 그리드서치의 최적 파라미터를 기반으로 최적 파라미터값 찾아가기\n",
    "4. 부스팅 건드려보기(11/27)"
   ]
  },
  {
   "cell_type": "markdown",
   "id": "28a34147",
   "metadata": {},
   "source": [
    "# 11월 27일 기록\n",
    "\n",
    "주피터 죽어서 개고생함. 적당히 놓고 돌리면서 냉각 시켜야할듯\n",
    "\n",
    "애매한 특성은 빼는게 값이 더 잘 나옴.\n",
    "싹 다 빼고 한번 돌려보기도 해야할듯"
   ]
  },
  {
   "cell_type": "code",
   "execution_count": null,
   "id": "e7da005e",
   "metadata": {},
   "outputs": [],
   "source": []
  }
 ],
 "metadata": {
  "kernelspec": {
   "display_name": "Python 3",
   "language": "python",
   "name": "python3"
  },
  "language_info": {
   "codemirror_mode": {
    "name": "ipython",
    "version": 3
   },
   "file_extension": ".py",
   "mimetype": "text/x-python",
   "name": "python",
   "nbconvert_exporter": "python",
   "pygments_lexer": "ipython3",
   "version": "3.8.8"
  }
 },
 "nbformat": 4,
 "nbformat_minor": 5
}
